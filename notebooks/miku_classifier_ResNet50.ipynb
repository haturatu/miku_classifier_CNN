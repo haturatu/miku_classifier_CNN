{
  "cells": [
    {
      "cell_type": "code",
      "execution_count": null,
      "metadata": {
        "id": "cSL0LloTynP1"
      },
      "outputs": [],
      "source": [
        "from google.colab import drive\n",
        "drive.mount('/content/drive')"
      ]
    },
    {
      "cell_type": "code",
      "execution_count": null,
      "metadata": {
        "colab": {
          "background_save": true
        },
        "id": "Tob9ukKvy3_7"
      },
      "outputs": [],
      "source": [
        "import torch\n",
        "import torch.nn as nn\n",
        "import torchvision.models as models\n",
        "import torchvision.transforms as transforms\n",
        "from torchvision.datasets import ImageFolder\n",
        "from torch.utils.data import DataLoader\n",
        "import os\n",
        "import random\n",
        "import shutil"
      ]
    },
    {
      "cell_type": "code",
      "source": [
        "### preparation"
      ],
      "metadata": {
        "id": "yjsYthfANwsf"
      },
      "execution_count": null,
      "outputs": []
    },
    {
      "cell_type": "code",
      "execution_count": null,
      "metadata": {
        "id": "Xz1iu_XzzMW9"
      },
      "outputs": [],
      "source": [
        "base_dir = \"/content/drive/MyDrive/miku_project/data\"\n",
        "true_dir = os.path.join(base_dir, \"true\")\n",
        "false_dir = os.path.join(base_dir, \"false\")\n",
        "\n",
        "output_base = \"/content/drive/MyDrive/miku_project/split_data\"\n",
        "train_true = os.path.join(output_base, \"train\", \"miku\")\n",
        "val_true = os.path.join(output_base, \"val\", \"miku\")\n",
        "train_false = os.path.join(output_base, \"train\", \"not_miku\")\n",
        "val_false = os.path.join(output_base, \"val\", \"not_miku\")\n",
        "\n",
        "for d in [train_true, val_true, train_false, val_false]:\n",
        "    os.makedirs(d, exist_ok=True)\n",
        "\n",
        "def split_and_copy(src_dir, train_dst, val_dst, split_ratio=0.8):\n",
        "    files = [f for f in os.listdir(src_dir) if os.path.isfile(os.path.join(src_dir, f))]\n",
        "    random.shuffle(files)\n",
        "    split_point = int(len(files) * split_ratio)\n",
        "    train_files = files[:split_point]\n",
        "    val_files = files[split_point:]\n",
        "\n",
        "    for f in train_files:\n",
        "        shutil.copy(os.path.join(src_dir, f), os.path.join(train_dst, f))\n",
        "    for f in val_files:\n",
        "        shutil.copy(os.path.join(src_dir, f), os.path.join(val_dst, f))\n",
        "\n",
        "random.seed(42)\n",
        "\n",
        "split_and_copy(true_dir, train_true, val_true)\n",
        "split_and_copy(false_dir, train_false, val_false)"
      ]
    },
    {
      "cell_type": "code",
      "execution_count": null,
      "metadata": {
        "id": "sbFbZEQ_z0Mm"
      },
      "outputs": [],
      "source": [
        "device = torch.device(\"cuda\" if torch.cuda.is_available() else \"cpu\")\n",
        "\n",
        "transform=transforms.Compose([\n",
        "    transforms.Resize((224,224)),\n",
        "    transforms.ToTensor(),\n",
        "    transforms.Normalize(mean=[0.485, 0.456, 0.406], std=[0.229, 0.224, 0.225])\n",
        "])\n",
        "\n",
        "train_dataset = ImageFolder(\"/content/drive/MyDrive/miku_project/split_data/train\", transform=transform)\n",
        "val_dataset = ImageFolder(\"/content/drive/MyDrive/miku_project/split_data/val\", transform=transform)\n",
        "\n",
        "train_loader = DataLoader(train_dataset, batch_size=32, shuffle=True)\n",
        "val_loader = DataLoader(val_dataset, batch_size=32)"
      ]
    },
    {
      "cell_type": "code",
      "source": [
        "### make and train model"
      ],
      "metadata": {
        "id": "0c1CACgONz8A"
      },
      "execution_count": null,
      "outputs": []
    },
    {
      "cell_type": "code",
      "execution_count": null,
      "metadata": {
        "id": "Ent4eQfXzauN"
      },
      "outputs": [],
      "source": [
        "model = models.resnet50(pretrained=True)\n",
        "model.fc = nn.Linear(model.fc.in_features, 2)\n",
        "model = model.to(device)"
      ]
    },
    {
      "cell_type": "code",
      "execution_count": null,
      "metadata": {
        "id": "SjHWVn5RzgOw"
      },
      "outputs": [],
      "source": [
        "criterion = nn.CrossEntropyLoss()\n",
        "optimizer = torch.optim.Adam(model.parameters(), lr=1e-4)"
      ]
    },
    {
      "cell_type": "code",
      "execution_count": null,
      "metadata": {
        "id": "E1HpJ2oJzlWr"
      },
      "outputs": [],
      "source": [
        "for epoch in range(5):\n",
        "    model.train()\n",
        "    for images, labels in train_loader:\n",
        "        images, labels = images.to(device), labels.to(device)\n",
        "\n",
        "        outputs = model(images)\n",
        "        loss = criterion(outputs, labels)\n",
        "\n",
        "        optimizer.zero_grad()\n",
        "        loss.backward()\n",
        "        optimizer.step()\n",
        "\n",
        "    print(f\"Epoch [{epoch+1}/10] Loss: {loss.item():.4f}\")"
      ]
    },
    {
      "cell_type": "code",
      "execution_count": null,
      "metadata": {
        "id": "d1sogVkIz5_U"
      },
      "outputs": [],
      "source": [
        "!mkdir /content/drive/MyDrive/miku_project/model"
      ]
    },
    {
      "cell_type": "code",
      "execution_count": null,
      "metadata": {
        "id": "lCaoX5kzz8tP"
      },
      "outputs": [],
      "source": [
        "torch.save(model.state_dict(), \"/content/drive/MyDrive/miku_project/model/resnet50_miku2.pth\")"
      ]
    },
    {
      "cell_type": "code",
      "execution_count": null,
      "metadata": {
        "id": "_QQm7HyZ0IyP"
      },
      "outputs": [],
      "source": [
        "from sklearn.metrics import classification_report\n",
        "\n",
        "model.load_state_dict(torch.load(\"/content/drive/MyDrive/miku_project/model/resnet50_miku2.pth\"))\n",
        "model.eval()\n",
        "\n",
        "all_preds, all_labels = [], []\n",
        "\n",
        "with torch.no_grad():\n",
        "    for images, labels in val_loader:\n",
        "        images, labels = images.to(device), labels.to(device)\n",
        "        outputs = model(images)\n",
        "        _, preds = torch.max(outputs, 1)\n",
        "        all_preds.extend(preds.cpu().numpy())\n",
        "        all_labels.extend(labels.cpu().numpy())\n",
        "\n",
        "print(classification_report(all_labels, all_preds, target_names=train_dataset.classes))"
      ]
    },
    {
      "cell_type": "code",
      "execution_count": null,
      "metadata": {
        "id": "7Z0fmQJk1XDR"
      },
      "outputs": [],
      "source": [
        "### test for given image via URL"
      ]
    },
    {
      "cell_type": "code",
      "execution_count": null,
      "metadata": {
        "id": "QNxDqPdF1aZH"
      },
      "outputs": [],
      "source": [
        "import ipywidgets as widgets\n",
        "from IPython.display import display, clear_output\n",
        "from PIL import Image\n",
        "import requests\n",
        "from io import BytesIO"
      ]
    },
    {
      "cell_type": "code",
      "execution_count": null,
      "metadata": {
        "id": "tC37x5M71dbP"
      },
      "outputs": [],
      "source": [
        "model = models.resnet50(pretrained=False)\n",
        "model.fc = nn.Linear(model.fc.in_features, 2)\n",
        "model.load_state_dict(torch.load(\"/content/drive/MyDrive/miku_project/model/resnet50_miku2.pth\", map_location=device))\n",
        "model = model.to(device)\n",
        "model.eval()"
      ]
    },
    {
      "cell_type": "code",
      "execution_count": null,
      "metadata": {
        "id": "y5bDd3my1gEZ"
      },
      "outputs": [],
      "source": [
        "url_input = widgets.Text(\n",
        "    value='',\n",
        "    placeholder='Paste URL here',\n",
        "    description='Image URL:',\n",
        "    layout=widgets.Layout(width='600px')\n",
        ")\n",
        "\n",
        "predict_button = widgets.Button(\n",
        "    description='Predict',\n",
        "    button_style='success',\n",
        "    tooltip='Predict image class'\n",
        ")\n",
        "\n",
        "output = widgets.Output()"
      ]
    },
    {
      "cell_type": "code",
      "execution_count": null,
      "metadata": {
        "id": "fVhsyWsC1iVl"
      },
      "outputs": [],
      "source": [
        "def predict_image_from_url(url, model):\n",
        "    try:\n",
        "        response = requests.get(url)\n",
        "        response.raise_for_status()\n",
        "        img = Image.open(BytesIO(response.content)).convert(\"RGB\")\n",
        "        display(img)\n",
        "\n",
        "        img_tensor = transform(img).unsqueeze(0).to(device)\n",
        "        with torch.no_grad():\n",
        "            outputs = model(img_tensor)\n",
        "            probs = torch.softmax(outputs, dim=1)\n",
        "            pred = torch.argmax(probs, dim=1).item()\n",
        "            confidence = probs[0][pred].item()\n",
        "\n",
        "        return pred, confidence\n",
        "    except Exception as e:\n",
        "        print(f\"Error: {e}\")\n",
        "        return None, None"
      ]
    },
    {
      "cell_type": "code",
      "execution_count": null,
      "metadata": {
        "id": "3V-JDzBc1j5Z"
      },
      "outputs": [],
      "source": [
        "def on_predict_clicked(b):\n",
        "    with output:\n",
        "        clear_output()\n",
        "        url = url_input.value.strip()\n",
        "        pred, conf = predict_image_from_url(url, model)\n",
        "        if pred is None:\n",
        "            print(\"failed\")\n",
        "        else:\n",
        "            label = \"Miku is in a picture!\" if pred == 0 else \"Miku isn't in a picture.\"\n",
        "            print(f\"{label} (Confidence: {conf:.2f})\")"
      ]
    },
    {
      "cell_type": "code",
      "execution_count": null,
      "metadata": {
        "id": "rsH3M3dC1nbD"
      },
      "outputs": [],
      "source": [
        "predict_button.on_click(on_predict_clicked)\n",
        "display(url_input, predict_button, output)"
      ]
    }
  ],
  "metadata": {
    "colab": {
      "provenance": []
    },
    "kernelspec": {
      "display_name": "Python 3",
      "name": "python3"
    },
    "language_info": {
      "name": "python"
    }
  },
  "nbformat": 4,
  "nbformat_minor": 0
}